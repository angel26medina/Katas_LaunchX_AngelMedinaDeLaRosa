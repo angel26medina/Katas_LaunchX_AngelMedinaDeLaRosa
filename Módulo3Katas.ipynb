{
 "cells": [
  {
   "cell_type": "markdown",
   "metadata": {},
   "source": [
    "# Ejercicio - Escribir declaraciones if, else, y elif\n"
   ]
  },
  {
   "cell_type": "markdown",
   "metadata": {},
   "source": [
    "## Primer ejercicio\n",
    "En este problema se debe escribir una lógica condicional que imprima una advertencia si un asteroide se acerca a la Tierra demasiado rápido. La velocidad del asteroide varía dependiendo de lo cerca que esté del sol, y cualquier velocidad superior a 25 kilómetros por segundo (km/s) merece una advertencia. Para resolver esto se hace un condicional para analizar los casos en los cuales la velocidad sea mayor a 25 y todos lo casos en la que no."
   ]
  },
  {
   "cell_type": "code",
   "execution_count": 8,
   "metadata": {},
   "outputs": [
    {
     "name": "stdout",
     "output_type": "stream",
     "text": [
      "¡Precaución! asteroide a velocidad alta de 100 km/hr\n"
     ]
    }
   ],
   "source": [
    "# Añadir el código necesario para crear una variable que guarde la velocidad del asteroide.\n",
    "# Escribe una expresión de prueba para calcular si necesita una advertencia.\n",
    "# Agregue las instrucciones que se ejecutarán si la expresión de prueba es true o false.\n",
    "\n",
    "asteroide = int(input(\"Introduzca la velocidad del asteroide \"))\n",
    "\n",
    "if asteroide > 25:\n",
    "    print('¡Precaución! asteroide a velocidad alta de ' + str(asteroide) + ' km/hr')\n",
    "    \n",
    "else:\n",
    "    print('No existe algún preligro')"
   ]
  },
  {
   "cell_type": "markdown",
   "metadata": {},
   "source": [
    "## Segundo ejercicio\n",
    "Si un asteroide entra en la atmósfera de la Tierra a una velocidad mayor o igual a 20 km/s, a veces produce un rayo de luz que se puede ver desde la Tierra. Escribe la lógica condicional que usa declaraciones if, else, y elif para alertar a las personas de todo el mundo que deben buscar un asteroide en el cielo. ¡Hay uno que se dirige a la tierra ahora a una velocidad de 19 km/s!. \n",
    "\n",
    "Para este caso se analiza los casos que sean mayor a 20 km/s, iguales a 20m/s y todos los casos restantes mediante el uso del condicional 'if'."
   ]
  },
  {
   "cell_type": "code",
   "execution_count": 12,
   "metadata": {},
   "outputs": [
    {
     "name": "stdout",
     "output_type": "stream",
     "text": [
      "No existe asteroide visible\n"
     ]
    }
   ],
   "source": [
    "# Agrega el código para crear una variable para un asteroide que viaja a 19 km/s\n",
    "# Escribe varias expresiones de prueba para determinar si puedes ver el rayo de luz desde la tierra\n",
    "# Agrega las instrucciones que se ejecutarán si las expresiones de prueba son True o False\n",
    "\n",
    "asteroide = 19\n",
    "\n",
    "if asteroide > 20:\n",
    "    print('Asteroide visible se dirige a la tierra ahora a una velocidad de '+ str(asteroide) +' km/hr')\n",
    "\n",
    "elif asteroide == 20:\n",
    "    print('Asteroide visible se dirige a la tierra ahora a una velocidad de 20 km/hr')\n",
    "\n",
    "else:\n",
    "    print('No existe asteroide visible')"
   ]
  },
  {
   "cell_type": "markdown",
   "metadata": {},
   "source": [
    "## Tercer ejercicio\n",
    "\n",
    "Considerar:\n",
    "\n",
    "*Los asteroides de menos de 25 metros en su dimensión más grande probablemente se quemarán a medida que entren en la atmósfera de la Tierra.\n",
    "\n",
    "*Si una pieza de un asteroide que es más grande que 25 metros pero más pequeña que 1000 metros golpeara la Tierra, causaría mucho daño.\n",
    "También discutimos en el ejercicio anterior que:\n",
    "\n",
    "*La velocidad del asteroide varía en función de lo cerca que esté del sol, y cualquier velocidad superior a 25 kilómetros por segundo (km/s) merece una advertencia.\n",
    "\n",
    "* Si un asteroide entra en la atmósfera de la Tierra a una velocidad mayor o igual a 20 km/s, a veces produce un rayo de luz que se puede ver desde la Tierra.\n",
    "\n",
    "Usando toda esta información, escribe un programa que emita la advertencia o información correcta a la gente de la Tierra, según la velocidad y el tamaño de un asteroide. Utiliza instrucciones if, else, y elif, así como los operadores and y or.\n",
    "\n",
    "Para este caso se analiza el caso mediante el condicional 'if' y 'elif' cuando la velocidad es mayor a 25 km/s y el tamaño del asteroide es entre 25 y 1000 metros, cuando la velocidad es mayor o igual a 20 y no cumple el primer caso, cuando el tamaño del ateroide es menor a 25 y no cumple alguno de los primeros dos casos, y finalmente mediane un else considerar todos los casos que pudieran ser omitidos. "
   ]
  },
  {
   "cell_type": "code",
   "execution_count": 1,
   "metadata": {},
   "outputs": [
    {
     "name": "stdout",
     "output_type": "stream",
     "text": [
      "El asteroide no presenta peligro alguno\n"
     ]
    }
   ],
   "source": [
    "# Agrega el código para crear nuevas variables para la velocidad y el tamaño del asteroide\n",
    "# Para probar el código, prueba con varias velocidades y tamaños\n",
    "# Escribe varias expresiones de prueba o combinaciones de expresiones de prueba para determinar qué mensaje se debe enviar a Tierra.\n",
    "\n",
    "velocidad = int(input(\"Introduzca la velocidad del asteroide \"))\n",
    "size = int(input(\"Introduzca el tamaño del asteroide \"))\n",
    "\n",
    "if 25 < size < 1000  and velocidad > 25:\n",
    "    print('¡PELIGRO! Asteroide de ' + str(size) +' metros acercándose a la tierra con alta velocidad de ' + str(velocidad) + ' km/hr')\n",
    "\n",
    "elif velocidad >= 20:\n",
    "    print('Rayo de luz de un asteroide se puede ver desde la Tierra')\n",
    "\n",
    "elif size < 25:\n",
    "    print('El asteroide no presenta peligro alguno')\n",
    "\n",
    "else:\n",
    "    print('El asteroide no presenta peligro alguno')"
   ]
  }
 ],
 "metadata": {
  "interpreter": {
   "hash": "dea04eec890423fca6cdc0ffcb0d4a999f6d6faa2e534dc6acd8980971dcb8d1"
  },
  "kernelspec": {
   "display_name": "Python 3.9.10 64-bit",
   "name": "python3"
  },
  "language_info": {
   "codemirror_mode": {
    "name": "ipython",
    "version": 3
   },
   "file_extension": ".py",
   "mimetype": "text/x-python",
   "name": "python",
   "nbconvert_exporter": "python",
   "pygments_lexer": "ipython3",
   "version": "3.9.2"
  },
  "orig_nbformat": 4
 },
 "nbformat": 4,
 "nbformat_minor": 2
}
