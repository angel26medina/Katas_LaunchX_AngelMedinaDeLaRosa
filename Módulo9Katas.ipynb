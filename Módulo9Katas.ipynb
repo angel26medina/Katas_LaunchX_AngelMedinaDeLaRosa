{
 "cells": [
  {
   "cell_type": "markdown",
   "metadata": {},
   "source": [
    "# Uso de funciones en Python"
   ]
  },
  {
   "cell_type": "markdown",
   "metadata": {},
   "source": [
    "## Ejercicio 1: Trabajar con argumentos en funciones\n",
    "Los argumentos requeridos en las funciones se utilizan cuando las funciones necesitan que esos argumentos funcionen correctamente. En este ejercicio, construirás un informe de combustible que requiere información de varias ubicaciones de combustible en todo el cohete. Comienza por crear una función que necesite tres lecturas de combustible y devuelva un informe:"
   ]
  },
  {
   "cell_type": "code",
   "execution_count": 3,
   "metadata": {},
   "outputs": [],
   "source": [
    "# Función para leer 3 tanques de combustible y muestre el promedio\n",
    "def informe (tanque_1, tanque_2, tanque_3):\n",
    "    promedio = (tanque_1 + tanque_2 + tanque_3)/3\n",
    "    return f'el promedio de los tanques es: {promedio}'"
   ]
  },
  {
   "cell_type": "markdown",
   "metadata": {},
   "source": [
    "Ahora que hemos definido la función de informes, vamos a comprobarlo. Para esta misión, los tanques no están llenos:"
   ]
  },
  {
   "cell_type": "code",
   "execution_count": 4,
   "metadata": {},
   "outputs": [
    {
     "data": {
      "text/plain": [
       "'el promedio de los tanques es: 200.0'"
      ]
     },
     "execution_count": 4,
     "metadata": {},
     "output_type": "execute_result"
    }
   ],
   "source": [
    "informe(100, 200, 300)"
   ]
  },
  {
   "cell_type": "code",
   "execution_count": 5,
   "metadata": {},
   "outputs": [
    {
     "data": {
      "text/plain": [
       "53.333333333333336"
      ]
     },
     "execution_count": 5,
     "metadata": {},
     "output_type": "execute_result"
    }
   ],
   "source": [
    "def promedio(tanque_1, tanque_2, tanque_3):\n",
    "    return (tanque_1 + tanque_2 + tanque_3) / 3\n",
    "\n",
    "promedio(10, 100, 50)"
   ]
  },
  {
   "cell_type": "markdown",
   "metadata": {},
   "source": [
    "Ahora actualiza la función de informes para llamando a la nueva función del promedio:"
   ]
  },
  {
   "cell_type": "code",
   "execution_count": 10,
   "metadata": {},
   "outputs": [
    {
     "name": "stdout",
     "output_type": "stream",
     "text": [
      " informe:\n",
      "    ----------------------------------------------------\n",
      "    Promedio: 53.333333333333336\n",
      "    Tanque 1: 10\n",
      "    Tanque 2: 100\n",
      "    Tanque 3: 50\n",
      "    \n"
     ]
    }
   ],
   "source": [
    "def informe(tanque_1, tanque_2, tanque_3):\n",
    "    return f\"\"\" informe:\n",
    "    ----------------------------------------------------\n",
    "    Promedio: {promedio(tanque_1, tanque_2, tanque_3)}\n",
    "    Tanque 1: {tanque_1}\n",
    "    Tanque 2: {tanque_2}\n",
    "    Tanque 3: {tanque_3}\n",
    "    \"\"\"\n",
    "\n",
    "print(informe(10, 100, 50))"
   ]
  },
  {
   "cell_type": "markdown",
   "metadata": {},
   "source": [
    "## Ejercicio 2: Trabajo con argumentos de palabra clave\n"
   ]
  },
  {
   "cell_type": "markdown",
   "metadata": {},
   "source": [
    "En este ejercicio, construirás un informe de cohete que requiere varias piezas de información, como el tiempo hasta el destino, el combustible a la izquierda y el nombre del destino. Comienza por crear una función que creará un informe preciso de la misión:"
   ]
  },
  {
   "cell_type": "code",
   "execution_count": 13,
   "metadata": {},
   "outputs": [
    {
     "name": "stdout",
     "output_type": "stream",
     "text": [
      " informe:\n",
      "    ----------------------------------------------------\n",
      "    hora de prelanzamiento: 12 horas\n",
      "    Tiempo de vuelo: 13 horas\n",
      "    Destino: planeta Jupiter \n",
      "    Tanque externo: 1000 litros\n",
      "    Tanque interno: 1000 litros\n",
      "    \n"
     ]
    }
   ],
   "source": [
    "# Función con un informe preciso de la misión. Considera hora de prelanzamiento, tiempo de vuelo, destino, tanque externo y tanque interno\n",
    "def informe (hora, tiempo_vuelo, destino, tanque_externo, tanque_interno):\n",
    "    return f\"\"\" informe:\n",
    "    ----------------------------------------------------\n",
    "    hora de prelanzamiento: {hora} horas\n",
    "    Tiempo de vuelo: {tiempo_vuelo} horas\n",
    "    Destino: planeta {destino} \n",
    "    Tanque externo: {tanque_externo} litros\n",
    "    Tanque interno: {tanque_interno} litros\n",
    "    \"\"\"\n",
    "print(informe(12, 13, 'Jupiter', 1000, 1000))\n"
   ]
  },
  {
   "cell_type": "markdown",
   "metadata": {},
   "source": [
    "La función es problemática porque no se puede adaptar para minutos adicionales o tanques adicionales de combustible. Hazlo más flexible permitiendo cualquier número de pasos basados en el tiempo y cualquier número de tanques. En lugar de usar *args y **kwargs, aprovecha el hecho de que puedes usar cualquier nombre que desees. Asegurate que la función sea más legible mediante el uso de nombres de variables que están asociados con las entradas, como *minutes y **fuel_reservoirs:"
   ]
  },
  {
   "cell_type": "code",
   "execution_count": 18,
   "metadata": {},
   "outputs": [
    {
     "name": "stdout",
     "output_type": "stream",
     "text": [
      " informe:\n",
      "    ----------------------------------------------------\n",
      "    Destino: planeta Jupiter\n",
      "    Tiempo: 2112 minutos\n",
      "    Combustible total: 1110 litros\n",
      "    \n"
     ]
    }
   ],
   "source": [
    "def informe (destino, *minutes, **fuel_reservoirs):\n",
    "    return f\"\"\" informe:\n",
    "    ----------------------------------------------------\n",
    "    Destino: planeta {destino}\n",
    "    Tiempo: {sum(minutes)} minutos\n",
    "    Combustible total: {sum(fuel_reservoirs.values())} litros\n",
    "    \"\"\"\n",
    "print(informe('Jupiter', 12, 100, 1000, 1000, tanque_1=10, tanque_2=100, tanque_3=1000))"
   ]
  },
  {
   "cell_type": "markdown",
   "metadata": {},
   "source": [
    "Debido a que el combustible que queda en los tanques es específico de cada tanque, actualiza la función para usar el nombre de cada tanque en el informe:"
   ]
  },
  {
   "cell_type": "code",
   "execution_count": 28,
   "metadata": {},
   "outputs": [
    {
     "name": "stdout",
     "output_type": "stream",
     "text": [
      " informe:\n",
      "    ----------------------------------------------------\n",
      "    Destino: planeta Jupiter\n",
      "    Tiempo: 2112 minutos\n",
      "    Combustible total: 1110 litros\n",
      "    el tanque_1 tiene 10 litros\n",
      "el tanque_2 tiene 100 litros\n",
      "el tanque_3 tiene 1000 litros\n",
      "\n",
      "    \n"
     ]
    }
   ],
   "source": [
    "def informe (destino, *minutes, **fuel_reservoirs):\n",
    "    informe = \"\"\"\"\"\"\n",
    "    for tanque, combustible in fuel_reservoirs.items():\n",
    "        informe += f\"el {tanque} tiene {combustible} litros\\n\"\n",
    "\n",
    "    return f\"\"\" informe:\n",
    "    ----------------------------------------------------\n",
    "    Destino: planeta {destino}\n",
    "    Tiempo: {sum(minutes)} minutos\n",
    "    Combustible total: {sum(fuel_reservoirs.values())} litros\n",
    "    {informe}\n",
    "    \"\"\"\n",
    "print(informe('Jupiter', 12, 100, 1000, 1000, tanque_1=10, tanque_2=100, tanque_3=1000))"
   ]
  }
 ],
 "metadata": {
  "interpreter": {
   "hash": "a86bad61e0bc88d74576fc9f0832d6fb707ffa6cff0daea4c2836fd148986162"
  },
  "kernelspec": {
   "display_name": "Python 3.9.2 64-bit",
   "language": "python",
   "name": "python3"
  },
  "language_info": {
   "codemirror_mode": {
    "name": "ipython",
    "version": 3
   },
   "file_extension": ".py",
   "mimetype": "text/x-python",
   "name": "python",
   "nbconvert_exporter": "python",
   "pygments_lexer": "ipython3",
   "version": "3.9.2"
  },
  "orig_nbformat": 4
 },
 "nbformat": 4,
 "nbformat_minor": 2
}
